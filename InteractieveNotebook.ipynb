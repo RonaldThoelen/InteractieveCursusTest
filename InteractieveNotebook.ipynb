{
  "nbformat": 4,
  "nbformat_minor": 0,
  "metadata": {
    "colab": {
      "name": "InteractieveNotebook.ipynb",
      "provenance": [],
      "collapsed_sections": [],
      "authorship_tag": "ABX9TyOCb6BWcM/T9OhkuH7/+MEw",
      "include_colab_link": true
    },
    "kernelspec": {
      "name": "python3",
      "display_name": "Python 3"
    },
    "language_info": {
      "name": "python"
    }
  },
  "cells": [
    {
      "cell_type": "markdown",
      "metadata": {
        "id": "view-in-github",
        "colab_type": "text"
      },
      "source": [
        "<a href=\"https://colab.research.google.com/github/RonaldThoelen/InteractieveCursusTest/blob/main/InteractieveNotebook.ipynb\" target=\"_parent\"><img src=\"https://colab.research.google.com/assets/colab-badge.svg\" alt=\"Open In Colab\"/></a>"
      ]
    },
    {
      "cell_type": "markdown",
      "source": [
        "#Test Cursus\n",
        "\n"
      ],
      "metadata": {
        "id": "CHx8NXrpRszb"
      }
    },
    {
      "cell_type": "code",
      "execution_count": null,
      "metadata": {
        "colab": {
          "base_uri": "https://localhost:8080/"
        },
        "id": "jLswy4lgHcm_",
        "outputId": "e1412b5f-be2a-40f6-cbdd-71cc37b5814d"
      },
      "outputs": [
        {
          "output_type": "stream",
          "name": "stdout",
          "text": [
            "Hallo\n"
          ]
        }
      ],
      "source": [
        "print(\"Hallo\")"
      ]
    },
    {
      "cell_type": "markdown",
      "source": [
        "##Som"
      ],
      "metadata": {
        "id": "Fo8lN4pWR4we"
      }
    },
    {
      "cell_type": "code",
      "source": [
        "print(4*6)"
      ],
      "metadata": {
        "colab": {
          "base_uri": "https://localhost:8080/"
        },
        "id": "oKUnSUYrR1ku",
        "outputId": "12585dd5-0e86-4fa0-ce76-cbd828213934"
      },
      "execution_count": null,
      "outputs": [
        {
          "output_type": "stream",
          "name": "stdout",
          "text": [
            "24\n"
          ]
        }
      ]
    }
  ]
}